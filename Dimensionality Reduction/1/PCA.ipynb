{
 "cells": [
  {
   "cell_type": "markdown",
   "metadata": {},
   "source": [
    "<h1>PCA</h1>"
   ]
  },
  {
   "cell_type": "code",
   "execution_count": null,
   "metadata": {},
   "outputs": [],
   "source": [
    "import pandas as pd\n",
    "import seaborn as sns\n",
    "import numpy as np\n",
    "import random\n",
    "import matplotlib.pyplot as plt\n",
    "from sklearn.ensemble import ExtraTreesClassifier\n",
    "from sklearn.linear_model import LogisticRegression\n",
    "from statsmodels.graphics.tsaplots import plot_acf\n",
    "from statsmodels.graphics.tsaplots import plot_pacf\n",
    "from sklearn.svm import SVC\n",
    "from sklearn.tree import DecisionTreeClassifier\n",
    "from sklearn.naive_bayes import GaussianNB\n",
    "from sklearn.gaussian_process import GaussianProcessClassifier\n",
    "from sklearn.ensemble import RandomForestClassifier\n",
    "from sklearn.ensemble import AdaBoostClassifier\n",
    "from sklearn.neighbors import KNeighborsClassifier\n",
    "from sklearn.preprocessing import StandardScaler, RobustScaler, Binarizer, KernelCenterer\n",
    "from sklearn.model_selection import train_test_split\n",
    "from sklearn.model_selection import StratifiedKFold\n",
    "from sklearn.metrics import roc_auc_score\n",
    "from sklearn.metrics import make_scorer\n",
    "from sklearn.model_selection import GridSearchCV\n",
    "from sklearn.cluster import DBSCAN\n",
    "plt.style.use(['seaborn-darkgrid'])\n",
    "plt.rcParams['font.family'] = 'DejaVu Sans'\n",
    "from sklearn.feature_selection import RFE\n",
    "from sklearn.model_selection import KFold\n",
    "from tqdm import tqdm_notebook as tqdm\n",
    "from keras.models import Sequential\n",
    "from keras.layers import Dense\n",
    "from sklearn.model_selection import validation_curve, learning_curve, cross_val_score, train_test_split\n",
    "from sklearn.metrics import roc_auc_score\n",
    "from sklearn.decomposition import PCA\n",
    "from sklearn.manifold import TSNE\n",
    "from sklearn.decomposition import TruncatedSVD\n",
    "RANDOM_STATE = 78\n",
    "import warnings\n",
    "warnings.filterwarnings('ignore')"
   ]
  },
  {
   "cell_type": "markdown",
   "metadata": {},
   "source": [
    "<h3>Attempting PCA with Different Standardization Methods</h3>"
   ]
  },
  {
   "cell_type": "code",
   "execution_count": null,
   "metadata": {},
   "outputs": [],
   "source": [
    "pca = PCA().fit(x_train)\n",
    "\n",
    "plt.figure(figsize=(10,7))\n",
    "plt.plot(np.cumsum(pca.explained_variance_ratio_), color='k', lw=2)\n",
    "plt.xlabel('Number of components')\n",
    "plt.ylabel('Total explained variance')\n",
    "plt.xlim(0, 300)\n",
    "plt.yticks(np.arange(0, 1.1, 0.1))\n",
    "\n",
    "plt.axhline(0.9, c='c')\n",
    "plt.titke\n",
    "plt.show()"
   ]
  },
  {
   "cell_type": "code",
   "execution_count": null,
   "metadata": {},
   "outputs": [],
   "source": [
    "#Standardising Train and Test data\n",
    "\n",
    "#Standard Scaler\n",
    "sc0 = StandardScaler()\n",
    "X_train0 = sc0.fit_transform(x_train)\n",
    "X_test0 = sc0.transform(x_test)\n",
    "\n",
    "#Robust Scaler\n",
    "sc1 = RobustScaler()\n",
    "X_train1 = sc1.fit_transform(x_train)\n",
    "X_test1 = sc1.transform(x_test)\n",
    "\n",
    "#Binarizer\n",
    "sc2 = Binarizer()\n",
    "X_train2 = sc2.fit_transform(x_train)\n",
    "X_test2 = sc2.transform(x_test)\n",
    "\n",
    "#Kernel Centerer\n",
    "sc3 = KernelCenterer()\n",
    "X_train3 = sc3.fit_transform(x_train)\n",
    "X_test3 = sc3.transform(x_test)"
   ]
  },
  {
   "cell_type": "code",
   "execution_count": null,
   "metadata": {},
   "outputs": [],
   "source": [
    "#Plot function\n",
    "def plot_pca_train(X0, X1, X2, X3, y_train):\n",
    "    fig, ax = plt.subplots(2, 2, figsize = (24, 24))\n",
    "    pca = PCA(n_components=0.9)\n",
    "    X_reduced0 = pca.fit_transform(X0)\n",
    "    X_reduced1 = pca.fit_transform(X1)\n",
    "    X_reduced2 = pca.fit_transform(X2)\n",
    "    X_reduced3 = pca.fit_transform(X3)\n",
    "    ax[0,0].scatter(X_reduced0[:, 0], X_reduced0[:, 1], c=y_train,\n",
    "            edgecolor='none', alpha=0.7, s=40,\n",
    "            cmap=plt.cm.get_cmap('bwr', 2))\n",
    "    ax[0,0].set_title('PCA projection StdScalar')\n",
    "    ax[1,0].scatter(X_reduced1[:, 0], X_reduced1[:, 1], c=y_train,\n",
    "            edgecolor='none', alpha=0.7, s=40,\n",
    "            cmap=plt.cm.get_cmap('bwr', 2))\n",
    "    ax[1,0].set_title('PCA projection Robust')\n",
    "    ax[0,1].scatter(X_reduced2[:, 0], X_reduced2[:, 1], c=y_train,\n",
    "            edgecolor='none', alpha=0.7, s=40,\n",
    "            cmap=plt.cm.get_cmap('bwr', 2))\n",
    "    ax[0,1].set_title('PCA projection Binarizer')\n",
    "    ax[1,1].scatter(X_reduced3[:, 0], X_reduced3[:, 1], c=y_train,\n",
    "            edgecolor='none', alpha=0.7, s=40,\n",
    "            cmap=plt.cm.get_cmap('bwr', 2))\n",
    "    ax[1,1].set_title('PCA projection KernelCenterer')\n",
    "    print(pca.n_components_)"
   ]
  },
  {
   "cell_type": "code",
   "execution_count": null,
   "metadata": {},
   "outputs": [],
   "source": [
    "#For Standardized Training Data\n",
    "plot_pca_train(X_train0, X_train1, X_train2, X_train3, y_train)"
   ]
  },
  {
   "cell_type": "markdown",
   "metadata": {},
   "source": [
    "<h4>Since, all methods of standardization lead to the same distribution, we will resort to Standard Scaler</h4>"
   ]
  },
  {
   "cell_type": "code",
   "execution_count": null,
   "metadata": {},
   "outputs": [],
   "source": [
    "pca = PCA(n_components=0.9)\n",
    "pca.fit(X_train0)\n",
    "print(\"Train Shape : \",X_train0.shape)\n",
    "print(\"Test Shape\",X_test0.shape)\n",
    "print(\"PCA Variance Ratio\",pca.explained_variance_ratio_)\n",
    "X = pca.transform(X_train0)\n",
    "transformed_test = pca.transform(X_test0)\n",
    "kf = KFold(n_splits=10)\n",
    "\n",
    "scores = [] \n",
    "best_param = {'C': 0.11248300958542848, 'class_weight': 'balanced', 'max_iter': 50000, 'n_jobs': -1, 'penalty': 'l1', 'random_state': 78, 'solver': 'liblinear'}\n",
    "#K-fold Validation \n",
    "for train_index, test_index in kf.split(X):\n",
    "    X_train, X_test = X[train_index], X[test_index]\n",
    "    Y_train, Y_test = y_train[train_index], y_train[test_index]\n",
    "    model = LogisticRegression(C=0.1, class_weight='balanced', dual=False,fit_intercept=True, intercept_scaling=1, max_iter=100,multi_class='warn', n_jobs=None, penalty='l1', random_state=0,solver='warn', tol=0.0001, verbose=0, warm_start=False);\n",
    "    model.fit(X_train, Y_train)\n",
    "    score = model.score(X_test, Y_test)\n",
    "    scores.append(score)\n",
    "print(\"Average Train Accuracy: \", sum(scores)*100/10, \"%\")\n",
    "model.fit(X, y_train)\n",
    "predictions = model.predict(transformed_test)\n",
    "\n",
    "#writing results to csv\n",
    "write_csv(predictions,'PCA')"
   ]
  },
  {
   "cell_type": "markdown",
   "metadata": {},
   "source": [
    "<h3>Test Score obtained on Kaggle after PCA :</h3>"
   ]
  },
  {
   "attachments": {
    "PCA.png": {
     "image/png": "[encoded data removed]"
    }
   },
   "cell_type": "markdown",
   "metadata": {},
   "source": [
    "![PCA.png](attachment:PCA.png)"
   ]
  },
  {
   "cell_type": "code",
   "execution_count": null,
   "metadata": {},
   "outputs": [],
   "source": []
  }
 ],
 "metadata": {
  "kernelspec": {
   "display_name": "Python 3",
   "language": "python",
   "name": "python3"
  },
  "language_info": {
   "codemirror_mode": {
    "name": "ipython",
    "version": 3
   },
   "file_extension": ".py",
   "mimetype": "text/x-python",
   "name": "python",
   "nbconvert_exporter": "python",
   "pygments_lexer": "ipython3",
   "version": "3.7.1"
  }
 },
 "nbformat": 4,
 "nbformat_minor": 2
}
